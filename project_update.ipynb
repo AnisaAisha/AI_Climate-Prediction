{
 "cells": [
  {
   "cell_type": "code",
   "execution_count": 7,
   "metadata": {
    "colab": {},
    "colab_type": "code",
    "id": "GcTe98fQ5Kvz"
   },
   "outputs": [],
   "source": [
    "import random\n",
    "import numpy as np\n",
    "import pandas as pd"
   ]
  },
  {
   "cell_type": "code",
   "execution_count": 8,
   "metadata": {
    "colab": {},
    "colab_type": "code",
    "id": "bWX3I0ta5Yew"
   },
   "outputs": [],
   "source": [
    "#Initializing the setup\n",
    "def initialize(file):\n",
    "  \n",
    "  #load dataset\n",
    "  dataset = pd.read_csv(file, sep=\",\", header=None)\n",
    "  \n",
    "  #raw data of 3D vectors\n",
    "  #vectors represent the three green house gases [methane, CO2, NO2]\n",
    "  raw_data = np.zeros((dataset.shape[0],3))\n",
    "  \n",
    "  for i in range(1, dataset.shape[0]):\n",
    "      raw_data[i][0] = dataset[2][i]\n",
    "      raw_data[i][1] = dataset[3][i]\n",
    "      raw_data[i][2] = dataset[4][i]\n",
    "\n",
    "  raw_data = np.delete(raw_data, 0, 0)\n",
    "  return raw_data"
   ]
  },
  {
   "cell_type": "code",
   "execution_count": 43,
   "metadata": {
    "colab": {},
    "colab_type": "code",
    "id": "XaBUR20aIqqp"
   },
   "outputs": [],
   "source": [
    "#Normalization of raw data\n",
    "def preprocess(data):\n",
    "\n",
    "  normalized_data = data  #copying so that original data is not lost (maybe unnecessary, did it rn cuz not sure)\n",
    "\n",
    "  sums = normalized_data.sum(axis=1)\n",
    "  normalized_data = normalized_data / sums[:, np.newaxis]\n",
    "  \n",
    "  return normalized_data"
   ]
  },
  {
   "cell_type": "code",
   "execution_count": 79,
   "metadata": {
    "colab": {},
    "colab_type": "code",
    "id": "sNiey6naPMh6"
   },
   "outputs": [],
   "source": [
    "dimensions = np.array([20,20])\n",
    "iterations = 1000\n",
    "learning_rate = 0.01\n",
    "\n",
    "raw_data = initialize('greenhouse_gases_data.csv')\n",
    "\n",
    "m = raw_data.shape[0]\n",
    "n = raw_data.shape[1]\n",
    "\n",
    "weight_matrix =  np.random.random((dimensions[0], dimensions[1], m)) #randomized weight vector for SOM\n",
    "radius = max(dimensions[0], dimensions[1])/2  #neighborhood radius\n",
    "decay = iterations/np.log(radius)\n",
    "n_i = 0    #nearest input\n",
    "\n",
    "normalized = preprocess(raw_data)\n",
    "#print(normalized)"
   ]
  },
  {
   "cell_type": "code",
   "execution_count": 80,
   "metadata": {},
   "outputs": [],
   "source": [
    "#find the nearest input for v\n",
    "def nearest_input(v, matrix, m):\n",
    "    min_dist = np.iinfo(np.int).max\n",
    "    for i in range(matrix.shape[0]):\n",
    "        for j in range(matrix.shape[1]):\n",
    "            w = matrix[i, j, :].reshape(m, 1)\n",
    "            dist = np.sum((w-v)**2)\n",
    "            #print(dist)\n",
    "            if dist < min_dist:\n",
    "                min_dist = dist\n",
    "                #print('check')\n",
    "                n_i = np.array([i, j])\n",
    "    return n_i\n",
    "#print('nearest input val:', nearest_input(v, weight_matrix, m))"
   ]
  },
  {
   "cell_type": "code",
   "execution_count": 81,
   "metadata": {},
   "outputs": [],
   "source": [
    "def influence(init_radius, dist):\n",
    "    inf = np.exp(-dist/ 2*(radius**2))\n",
    "    return inf"
   ]
  },
  {
   "cell_type": "code",
   "execution_count": 82,
   "metadata": {},
   "outputs": [],
   "source": [
    "def decaying(init_radius, init_lr, step, i, d):\n",
    "    l_r = init_lr *np.exp(-step/ i)\n",
    "    r = init_radius*np.exp(-step/ d)\n",
    "    return l_r, r"
   ]
  },
  {
   "cell_type": "code",
   "execution_count": 85,
   "metadata": {},
   "outputs": [],
   "source": [
    "#learning\n",
    "for step in range(20):\n",
    "    #Random input vector selection for training\n",
    "    v = normalized[:, np.random.randint(0, n)].reshape(np.array([m, 1]))\n",
    "    #print(\"v:\", v)\n",
    "    \n",
    "    n_i = nearest_input(v, weight_matrix, m)    #nearest input\n",
    "    n_i_vector = weight_matrix[n_i[0], n_i[1], :].reshape(m,1)    #nearest input vector\n",
    "    #print(\"n,i:\", n_i)\n",
    "    \n",
    "    \n",
    "    new_radius, new_learning_rate = decaying(radius, learning_rate, step, iterations, decay)\n",
    "    radius = new_radius\n",
    "    learning_rate = new_learning_rate\n",
    "    #print(\"radius: \", radius)\n",
    "    #print(\"lr: \", learning_rate)\n"
   ]
  },
  {
   "cell_type": "code",
   "execution_count": null,
   "metadata": {},
   "outputs": [],
   "source": []
  }
 ],
 "metadata": {
  "colab": {
   "collapsed_sections": [],
   "name": "project.ipynb",
   "provenance": []
  },
  "kernelspec": {
   "display_name": "Python 3",
   "language": "python",
   "name": "python3"
  },
  "language_info": {
   "codemirror_mode": {
    "name": "ipython",
    "version": 3
   },
   "file_extension": ".py",
   "mimetype": "text/x-python",
   "name": "python",
   "nbconvert_exporter": "python",
   "pygments_lexer": "ipython3",
   "version": "3.6.5"
  }
 },
 "nbformat": 4,
 "nbformat_minor": 1
}
