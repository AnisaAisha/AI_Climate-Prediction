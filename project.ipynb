{
  "nbformat": 4,
  "nbformat_minor": 0,
  "metadata": {
    "colab": {
      "name": "project.ipynb",
      "provenance": [],
      "collapsed_sections": []
    },
    "kernelspec": {
      "name": "python3",
      "display_name": "Python 3"
    }
  },
  "cells": [
    {
      "cell_type": "code",
      "metadata": {
        "id": "GcTe98fQ5Kvz",
        "colab_type": "code",
        "colab": {}
      },
      "source": [
        "import random\n",
        "import numpy as np\n",
        "import pandas as pd"
      ],
      "execution_count": 0,
      "outputs": []
    },
    {
      "cell_type": "code",
      "metadata": {
        "id": "bWX3I0ta5Yew",
        "colab_type": "code",
        "colab": {}
      },
      "source": [
        "#Initializing the setup\n",
        "def initialize(file):\n",
        "  \n",
        "  #load dataset\n",
        "  dataset = pd.read_csv(file, sep=\",\", header=None)\n",
        "  \n",
        "  #raw data of 3D vectors\n",
        "  #vectors represent the three green house gases [methane, CO2, NO2]\n",
        "  raw_data = np.zeros((data.shape[0],3))\n",
        "  for i in range(1, data.shape[0]):\n",
        "      raw_data[i][0] = data[2][i]\n",
        "      raw_data[i][1] = data[3][i]\n",
        "      raw_data[i][2] = data[4][i]\n",
        "\n",
        "  return raw_data"
      ],
      "execution_count": 0,
      "outputs": []
    },
    {
      "cell_type": "code",
      "metadata": {
        "id": "XaBUR20aIqqp",
        "colab_type": "code",
        "colab": {}
      },
      "source": [
        "#Normalization of raw data\n",
        "def preprocess(data):\n",
        "\n",
        "  normalized_data = data  #copying so that original data is not lost (maybe unnecessary, did it rn cuz not sure)\n",
        "\n",
        "  sums = normalized_data.sum(axis=1)\n",
        "  normalized_data = normalized_data / sums[:, np.newaxis]\n",
        "  \n",
        "  return normalized_data"
      ],
      "execution_count": 0,
      "outputs": []
    },
    {
      "cell_type": "code",
      "metadata": {
        "id": "sNiey6naPMh6",
        "colab_type": "code",
        "colab": {}
      },
      "source": [
        "dimensions = np.array([20,20])\n",
        "iterations = 1000\n",
        "learning_rate = 0.01\n",
        "\n",
        "raw_data = initialize('greenhouse_gases_data.csv')\n",
        "\n",
        "m = raw_data.shape[0]\n",
        "n = raw_data.shape[1]\n",
        "\n",
        "weight_matrix =  np.random.random((dim[0], dim[1], m)) #randomized weight vector for SOM\n",
        "radius = max(dim[0], dim[1])/2  #neighborhood radius\n",
        "decay = iter/np.log(radius)\n",
        "\n",
        "normalized = preprocess(raw_data)"
      ],
      "execution_count": 0,
      "outputs": []
    }
  ]
}